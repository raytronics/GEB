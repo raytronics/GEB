{
 "cells": [
  {
   "cell_type": "markdown",
   "metadata": {},
   "source": [
    "# Bloop的几个例子 （GEB Ch13）\n",
    "## Bloop 基本概念\n",
    "对书中内容做简单摘录：\n",
    "> 为了探讨搜索长度问题，Bloop可以执行4中基本操作：\n",
    ">1. 两个自然数相加\n",
    ">2. 两个自然数相乘\n",
    ">3. 确定两个自然数是否相等\n",
    ">4. 确定两个自然数的相对大小\n",
    "\n",
    "几个基本的控制结构，这些对于程序员都很熟悉，就不多介绍了：\n",
    "- 循环和上界\n",
    "- IF条件和分支\n",
    "- 自动组块（函数调用）\n",
    "- bool逻辑\n",
    "\n",
    "下面将书中给的几个例子，以及没有给出的余数计算程序，用python实现\n",
    "\n"
   ]
  },
  {
   "cell_type": "markdown",
   "metadata": {},
   "source": [
    "## 2^3^n\n",
    "这是书中的第一个例子"
   ]
  },
  {
   "cell_type": "code",
   "execution_count": 1,
   "metadata": {},
   "outputs": [],
   "source": [
    "def two_to_the_three_to_two(n):\n",
    "    # BLOCK0 BEGIN\n",
    "    cell_0 = 1;                   \n",
    "    for i in range(1,n+1):   \n",
    "        # BLOCK1 BEGIN \n",
    "        cell_0= 3 * cell_0;\n",
    "        # BLOCK1 END\n",
    "    cell_1 = 1;                   \n",
    "    for i in range (1,cell_0+1):  \n",
    "        # BLOCK2 BEGIN \n",
    "        cell_1 = 2*cell_1; \n",
    "        # BLOCK2 END  \n",
    "    output = cell_1;\n",
    "    # BLOCK0 END  \n",
    "    return output;"
   ]
  },
  {
   "cell_type": "markdown",
   "metadata": {},
   "source": [
    "运行上述函数看一下结果"
   ]
  },
  {
   "cell_type": "code",
   "execution_count": 2,
   "metadata": {},
   "outputs": [
    {
     "name": "stdout",
     "output_type": "stream",
     "text": [
      "512\n"
     ]
    }
   ],
   "source": [
    "print(two_to_the_three_to_two(2));"
   ]
  },
  {
   "cell_type": "markdown",
   "metadata": {},
   "source": [
    "## 减法\n",
    "如果只会做加法，如何求取M-N的值呢？"
   ]
  },
  {
   "cell_type": "code",
   "execution_count": 3,
   "metadata": {},
   "outputs": [],
   "source": [
    "def minus(m,n):\n",
    "    #BLOCK0 BEGIN\n",
    "    if(m<n):\n",
    "        output = 0;\n",
    "    #QUIT BLOCK0\n",
    "    else:\n",
    "        for i in range (0,m+1):\n",
    "            #BLOCK1 BEGIN\n",
    "            if (i+n==m):\n",
    "                output=i;\n",
    "                break;\n",
    "            #BLOCK1 END\n",
    "    #BLOCK0 END\n",
    "    return output;"
   ]
  },
  {
   "cell_type": "markdown",
   "metadata": {},
   "source": [
    "运行结果看一下"
   ]
  },
  {
   "cell_type": "code",
   "execution_count": 4,
   "metadata": {},
   "outputs": [
    {
     "name": "stdout",
     "output_type": "stream",
     "text": [
      "3\n"
     ]
    }
   ],
   "source": [
    "print(minus(6,3));"
   ]
  },
  {
   "cell_type": "markdown",
   "metadata": {},
   "source": [
    "## 取余\n",
    "这个是书中假定已经具备的一个函数，并且在后面当作了推荐的练习"
   ]
  },
  {
   "cell_type": "code",
   "execution_count": 5,
   "metadata": {},
   "outputs": [],
   "source": [
    "def remainder(m,n): # M/N的余数\n",
    "    if(m<n):\n",
    "        output = 0;\n",
    "    else:\n",
    "        for i in range (1,m+1):\n",
    "            #BLOCK1 BEGIN\n",
    "            if (i*n<=m and (i+1)*n>m):\n",
    "                output=minus(m,i*n);\n",
    "                break;\n",
    "            #BLOCK1 END\n",
    "    return output;"
   ]
  },
  {
   "cell_type": "code",
   "execution_count": 6,
   "metadata": {},
   "outputs": [
    {
     "name": "stdout",
     "output_type": "stream",
     "text": [
      "0\n"
     ]
    }
   ],
   "source": [
    "print(remainder(4,2));"
   ]
  },
  {
   "cell_type": "code",
   "execution_count": 7,
   "metadata": {},
   "outputs": [
    {
     "name": "stdout",
     "output_type": "stream",
     "text": [
      "1\n"
     ]
    }
   ],
   "source": [
    "print(remainder(5,2));"
   ]
  },
  {
   "cell_type": "code",
   "execution_count": 8,
   "metadata": {},
   "outputs": [],
   "source": [
    "def prime(n):\n",
    "    if(n<=1):\n",
    "        output = False;\n",
    "    elif (n==2):\n",
    "        output = True;\n",
    "    else:\n",
    "        cell_0=2;\n",
    "        for i in range(1,minus(n,2)+1):\n",
    "            if remainder(n,cell_0)==0:\n",
    "                output= False;\n",
    "                break;\n",
    "            else:\n",
    "                cell_0 = cell_0 + 1;\n",
    "            output = True;\n",
    "    return output;"
   ]
  },
  {
   "cell_type": "code",
   "execution_count": 11,
   "metadata": {},
   "outputs": [
    {
     "name": "stdout",
     "output_type": "stream",
     "text": [
      "0 的质数检查结果是 False\n",
      "1 的质数检查结果是 False\n",
      "2 的质数检查结果是 True\n",
      "3 的质数检查结果是 True\n",
      "4 的质数检查结果是 False\n",
      "5 的质数检查结果是 True\n",
      "6 的质数检查结果是 False\n",
      "7 的质数检查结果是 True\n",
      "8 的质数检查结果是 False\n",
      "9 的质数检查结果是 False\n",
      "10 的质数检查结果是 False\n",
      "11 的质数检查结果是 True\n",
      "12 的质数检查结果是 False\n",
      "13 的质数检查结果是 True\n",
      "14 的质数检查结果是 False\n",
      "15 的质数检查结果是 False\n",
      "16 的质数检查结果是 False\n",
      "17 的质数检查结果是 True\n",
      "18 的质数检查结果是 False\n",
      "19 的质数检查结果是 True\n",
      "20 的质数检查结果是 False\n"
     ]
    }
   ],
   "source": [
    "for i in range(0,21):\n",
    "    print(f\"{i} 的质数检查结果是 {prime(i)}\")"
   ]
  },
  {
   "cell_type": "markdown",
   "metadata": {},
   "source": []
  },
  {
   "cell_type": "code",
   "execution_count": 12,
   "metadata": {},
   "outputs": [],
   "source": [
    "def goldbach(n):\n",
    "    output=False;\n",
    "    cell_0 = 2;\n",
    "    for i in range(1,n+1):\n",
    "        if (prime(cell_0) and prime(minus(n,cell_0))):\n",
    "            output = True;\n",
    "            break;\n",
    "        else:\n",
    "            cell_0 = cell_0 + 1;\n",
    "    return output,cell_0,minus(n,cell_0)"
   ]
  },
  {
   "cell_type": "code",
   "execution_count": 16,
   "metadata": {},
   "outputs": [
    {
     "name": "stdout",
     "output_type": "stream",
     "text": [
      "180 等于 7 和 173 这两个质数的和\n",
      "182 等于 3 和 179 这两个质数的和\n",
      "184 等于 3 和 181 这两个质数的和\n",
      "186 等于 5 和 181 这两个质数的和\n",
      "188 等于 7 和 181 这两个质数的和\n",
      "190 等于 11 和 179 这两个质数的和\n",
      "192 等于 11 和 181 这两个质数的和\n",
      "194 等于 3 和 191 这两个质数的和\n",
      "196 等于 3 和 193 这两个质数的和\n",
      "198 等于 5 和 193 这两个质数的和\n",
      "200 等于 3 和 197 这两个质数的和\n",
      "202 等于 3 和 199 这两个质数的和\n",
      "204 等于 5 和 199 这两个质数的和\n",
      "206 等于 7 和 199 这两个质数的和\n",
      "208 等于 11 和 197 这两个质数的和\n",
      "210 等于 11 和 199 这两个质数的和\n",
      "212 等于 13 和 199 这两个质数的和\n",
      "214 等于 3 和 211 这两个质数的和\n",
      "216 等于 5 和 211 这两个质数的和\n",
      "218 等于 7 和 211 这两个质数的和\n",
      "220 等于 23 和 197 这两个质数的和\n",
      "222 等于 11 和 211 这两个质数的和\n",
      "224 等于 13 和 211 这两个质数的和\n",
      "226 等于 3 和 223 这两个质数的和\n",
      "228 等于 5 和 223 这两个质数的和\n"
     ]
    }
   ],
   "source": [
    "for i in range(180,230,2):\n",
    "    result = goldbach(i)\n",
    "    print(f\"{i} 等于 {result[1]} 和 {result[2]} 这两个质数的和\")"
   ]
  }
 ],
 "metadata": {
  "kernelspec": {
   "display_name": "Python 3 (ipykernel)",
   "language": "python",
   "name": "python3"
  },
  "language_info": {
   "codemirror_mode": {
    "name": "ipython",
    "version": 3
   },
   "file_extension": ".py",
   "mimetype": "text/x-python",
   "name": "python",
   "nbconvert_exporter": "python",
   "pygments_lexer": "ipython3",
   "version": "3.12.7"
  },
  "orig_nbformat": 4,
  "vscode": {
   "interpreter": {
    "hash": "32e8181fce7c3e359c2790b917cd539742ff129bf629b8ad82002a107951ad4e"
   }
  }
 },
 "nbformat": 4,
 "nbformat_minor": 2
}
