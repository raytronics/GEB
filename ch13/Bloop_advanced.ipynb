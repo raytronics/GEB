{
 "cells": [
  {
   "cell_type": "markdown",
   "metadata": {},
   "source": [
    "# Bloop推荐的练习题 （GEB Ch13）\n",
    "这部分练习题分为两部分，第一部分是数论中的常见问题\n",
    "1. FACTORIAL[N]=N!(N的阶乘)\n",
    "2. REMAINDER[M,N]\n",
    "3. PI-DIGIT[N]=pi,pi在小数点猴的第N位数字\n",
    "4. FIBO[N]=斐波那契数列的第N项\n",
    "5. PRIME-BEYOND[N]=大于N的最小素数\n",
    "6. PERFECT[N]=第N个完全数\n",
    "7. PRIME?\n",
    "8. PERFECT?\n",
    "9. TRIVIAL? [A,B,C,N]=YES 若A^N+B^N=C^N成立，否则为No\n",
    "10. PIERRE?[A,B,C]=YES 若A^N+B^N=C^N可以被某个大于1的N值满足，否则为NO\n",
    "11. FERMAT?[N]=YES 若A^N+B^N=C^B可以被一组正数ABC所满足\n",
    "12. TORTOISE-PAIR?[M,N]=YES 若M和M+N均为素数，否则为N\n",
    "13. TORTOSE? [N]=YES 若N为两个素数之差，否则为NO\n",
    "\n",
    "第二部分是WJU和TNT系统中的一些题目\n",
    "1. WJU-WELL-FORMED? [N] =YES 若N可以看作WJU系统中的一个良构串，否则为NO\n",
    "2. WJU-PROOF-PAIR? [M,N]=YES 若在WJU系统中可以把串序列M看作串N的一个推导，否则为NO\n",
    "3. WJU-THEOREM? [N]=YES 若N对应的WJU系统中的串是一个定理，否则为NO\n",
    "4. TNT-THEOREM? [N]=YES 若N对应的TNT串是个定理\n",
    "5. FALSE?[N]=YES 若N对应的TNT串是数论中的一个假命题，否则为NO\n",
    "\n",
    "这个笔记中，我们仅针对第一部分进行讨论和编程。汇总的答案会放在最后。\n"
   ]
  },
  {
   "cell_type": "markdown",
   "metadata": {},
   "source": [
    "## 问题1：阶乘 FACTORIAL[N]=N!\n",
    "这个比较简单，不做过多分析"
   ]
  },
  {
   "cell_type": "code",
   "execution_count": 16,
   "metadata": {},
   "outputs": [],
   "source": [
    "def factorial(n):    \n",
    "    cell_0=1;\n",
    "    for i in range (1,n+1):\n",
    "        cell_0=cell_0*i;\n",
    "    output=cell_0;\n",
    "    return output;"
   ]
  },
  {
   "cell_type": "code",
   "execution_count": 17,
   "metadata": {},
   "outputs": [],
   "source": [
    "print(factorial(6));"
   ]
  },
  {
   "cell_type": "markdown",
   "metadata": {},
   "source": [
    "## 问题2: REMAINDER[M,N] & 问题7: PRIME?[N]\n",
    "basic中已经编写过了。\n",
    "余数、减法、确认质数三个函数，一次性复制到这里，不再验证，方便后面使用"
   ]
  },
  {
   "cell_type": "code",
   "execution_count": 8,
   "metadata": {},
   "outputs": [],
   "source": [
    "def minus(m,n):\n",
    "    #BLOCK0 BEGIN\n",
    "    if(m<n):\n",
    "        output = 0;\n",
    "    #QUIT BLOCK0\n",
    "    else:\n",
    "        for i in range (0,m+1):\n",
    "            #BLOCK1 BEGIN\n",
    "            if (i+n==m):\n",
    "                output=i;\n",
    "                break;\n",
    "            #BLOCK1 END\n",
    "    #BLOCK0 END\n",
    "    return output;\n",
    "\n",
    "def remainder(m,n): # M/N的余数\n",
    "    if(m<n):\n",
    "        output = 0;\n",
    "    else:\n",
    "        for i in range (1,m+1):\n",
    "            #BLOCK1 BEGIN\n",
    "            if (i*n<=m and (i+1)*n>m):\n",
    "                output=minus(m,i*n);\n",
    "                break;\n",
    "            #BLOCK1 END\n",
    "    return output;\n",
    "\n",
    "def prime(n):\n",
    "    if(n<=1):\n",
    "        output = False;\n",
    "    elif (n==2):\n",
    "        output = True;\n",
    "    else:\n",
    "        cell_0=2;\n",
    "        for i in range(1,minus(n,2)+1):\n",
    "            if remainder(n,cell_0)==0:\n",
    "                output= False;\n",
    "                break;\n",
    "            else:\n",
    "                cell_0 = cell_0 + 1;\n",
    "            output = True;\n",
    "    return output;"
   ]
  },
  {
   "cell_type": "markdown",
   "metadata": {},
   "source": [
    "## 问题3: PI-DIGIT[N]=pi在小数点后的第N位数字\n",
    "这一个问题不是原始递归的，无法用BlooP来编程"
   ]
  },
  {
   "cell_type": "markdown",
   "metadata": {},
   "source": [
    "## 问题4: FIBO[N]=斐波那契数列的第N项\n",
    "数学家莱昂纳多·斐波那契（Leonardo Fibonacci）以兔子繁殖为例子而引入，故又称“兔子数列”，其数值为：0（第0项）、1、1、2、3、5、8、13、21、34……\n",
    "\n",
    "在数学上，这一数列以如下递推的方法定义：F(0)=0，F(1)=1, F(n)=F(n - 1)+F(n - 2)（n ≥ 2，n ∈ N*）\n",
    "\n",
    "这是一个标准的原始递归"
   ]
  },
  {
   "cell_type": "code",
   "execution_count": 6,
   "metadata": {},
   "outputs": [
    {
     "name": "stdout",
     "output_type": "stream",
     "text": [
      "1\n"
     ]
    }
   ],
   "source": [
    "def fibo(n):\n",
    "    cell_n_2=0;\n",
    "    cell_n_1=1;\n",
    "    if(n>=2):\n",
    "        for i in range(2,n+1):\n",
    "            cell_n=cell_n_2 + cell_n_1;\n",
    "            cell_n_2=cell_n_1;\n",
    "            cell_n_1=cell_n;\n",
    "    elif (n==1):\n",
    "        cell_n=1;\n",
    "    else:\n",
    "        cell_n=0;\n",
    "    return cell_n;\n",
    "print(fibo(2))"
   ]
  },
  {
   "cell_type": "markdown",
   "metadata": {},
   "source": [
    "## 问题5: PRIME-BEYOND[N]=大于N的最小素数\n",
    "对于BlooP的要求来说，重复执行一个操作是有上界的，这个上界必须在进入循环之前决定。\n",
    "\n",
    "我们可以很轻松判断一个数是否是素数。对于大于N的最小素数，我们可以从N+1开始循环，逐个运用Prime(N)进行检验，直到检测到为止。\n",
    "\n",
    "但是检测到的步数上限无法在进入该循环之前决定，因此这个问题不是原始递归，BlooP无法对其编程。"
   ]
  },
  {
   "cell_type": "markdown",
   "metadata": {},
   "source": [
    "## 问题6: PERFECT[N]=第N个完全数 & 问题8：PERFECT?[N]\n",
    "先针对问题8，判断一个数是否是完全数进行分析。\n",
    "\n",
    "完全数的定义是：一个数的各个因数/约数除去它本身的真约数，相加后等于这个数。因此要判断一个数是否是完全数，那么首先需要对这个数做约数分解。\n",
    "\n",
    "首先，我们需要确认找到一个数字的所有约数，是否可以用BlooP编程。\n",
    "\n",
    "对于一个数N，寻找它约数的方法是，用一个数字m去除它，如果N/m的余数为0，则m是N的约数。可以让m逐渐变大到N。可以确定，一个数N的真约数的数量不会超过N，也可以在有限的步骤中完成运算。所以是可以用BlooP编程的。\n"
   ]
  },
  {
   "cell_type": "code",
   "execution_count": 12,
   "metadata": {},
   "outputs": [
    {
     "name": "stdout",
     "output_type": "stream",
     "text": [
      "[1, 2, 4, 7, 14]\n",
      "28\n"
     ]
    }
   ],
   "source": [
    "def submultiple(n):\n",
    "    list=[];\n",
    "    for i in range(1,n):\n",
    "        if remainder(n,i)==0:\n",
    "            list.append(i);\n",
    "    return list;\n",
    "print(submultiple(28))\n"
   ]
  },
  {
   "cell_type": "markdown",
   "metadata": {},
   "source": [
    "进一步，我们可以编写PERFECT?[N]了"
   ]
  },
  {
   "cell_type": "code",
   "execution_count": 15,
   "metadata": {},
   "outputs": [
    {
     "name": "stdout",
     "output_type": "stream",
     "text": [
      "496是一个完全数，496的各个真约数是[1, 2, 4, 8, 16, 31, 62, 124, 248]\n"
     ]
    },
    {
     "data": {
      "text/plain": [
       "True"
      ]
     },
     "execution_count": 15,
     "metadata": {},
     "output_type": "execute_result"
    }
   ],
   "source": [
    "def is_perfect(n):\n",
    "    sum_of_submultiples=0;\n",
    "    list=submultiple(n);\n",
    "    for i in list:\n",
    "        sum_of_submultiples+=i;\n",
    "    if n==sum_of_submultiples:\n",
    "        print(f\"{n}是一个完全数，{n}的各个真约数是{list}\")\n",
    "        return True;        \n",
    "    else:\n",
    "        print(f\"{n}不是一个完全数，{n}的各个真约数是{list}\")\n",
    "        return False;\n",
    "is_perfect(496)"
   ]
  },
  {
   "cell_type": "markdown",
   "metadata": {},
   "source": [
    "可以检验一个数是否是完全数之后，我们认为，对与找到第N个完全数的运算，与问题5中找到大于N的最小素数是一样的，无法在有限步骤中完成。\n",
    "\n",
    "因此，这个问题不能使用BlooP编程。"
   ]
  },
  {
   "cell_type": "markdown",
   "metadata": {},
   "source": [
    "## 问题9-11，费马大定理？\n",
    "9. TRIVIAL? [A,B,C,N]=YES 若A^N+B^N=C^N成立，否则为No\n",
    "10. PIERRE?[A,B,C]=YES 若A^N+B^N=C^N可以被某个大于1的N值满足，否则为NO\n",
    "11. FERMAT?[N]=YES 若A^N+B^N=C^B可以被一组正数ABC所满足\n",
    "\n",
    "首先，我们构造一个power函数。（其实python的库里已经有了，但是既然这本书里连减法都要自己编程，就保持下去吧）\n",
    "\n",
    "随后编写问题9"
   ]
  },
  {
   "cell_type": "code",
   "execution_count": 37,
   "metadata": {},
   "outputs": [
    {
     "name": "stdout",
     "output_type": "stream",
     "text": [
      "True\n",
      "False\n"
     ]
    }
   ],
   "source": [
    "def power(x,n):\n",
    "    cell_0=1;\n",
    "    for i in range(1,n+1):\n",
    "        cell_0=x*cell_0;\n",
    "    return cell_0;\n",
    "\n",
    "def trivial(a,b,c,n):\n",
    "    cell_0=power(a,n)+power(b,n);\n",
    "    if cell_0==power(c,n):\n",
    "        return True;\n",
    "    else:\n",
    "        return False;\n",
    "print(trivial(3,4,5,2));\n",
    "print(trivial(3,4,5,3));  "
   ]
  },
  {
   "cell_type": "markdown",
   "metadata": {},
   "source": [
    "针对问题10，我们思考一下，以BlooP的能力，仅能使用N逐步增大的方式向上搜索，每次循环调用trivial(a,b,c,n)进行判断，因此可能无法使用BlooP编程。\n",
    "问题11，也无法是用BlooP处理。"
   ]
  },
  {
   "cell_type": "markdown",
   "metadata": {},
   "source": [
    "## 问题12\n",
    "仅需要分别对M和M+N使用prime判断即可\n",
    "\n",
    "## 问题13\n",
    "不行"
   ]
  }
 ],
 "metadata": {
  "kernelspec": {
   "display_name": "Python 3 (ipykernel)",
   "language": "python",
   "name": "python3"
  }
 },
 "nbformat": 4,
 "nbformat_minor": 2
}
